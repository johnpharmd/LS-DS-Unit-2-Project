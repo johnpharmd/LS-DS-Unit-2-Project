{
 "cells": [
  {
   "cell_type": "code",
   "execution_count": 3,
   "metadata": {},
   "outputs": [],
   "source": [
    "import pandas as pd\n",
    "\n",
    "test_features = pd.read_csv('C:\\\\Users\\\\jhump\\\\Desktop\\\\Desktop_professional\\\\LSDS\\\\Full_Course\\\\test_features.csv')\n",
    "\n",
    "# prediction_csv_path = 'C:\\\\Users\\\\jhump\\\\Desktop\\\\Desktop_professional\\\\LSDS\\\\Full_Course\\\\kaggle-prediction.csv'\n",
    "train_features = pd.read_csv('C:\\\\Users\\\\jhump\\\\Desktop\\\\Desktop_professional\\\\LSDS\\\\Full_Course\\\\train_features.csv')\n",
    "train_labels = pd.read_csv('C:\\\\Users\\\\jhump\\\\Desktop\\\\Desktop_professional\\\\LSDS\\\\Full_Course\\\\train_labels.csv')\n",
    "# test_features = pd.read_csv('test_features.csv')"
   ]
  },
  {
   "cell_type": "code",
   "execution_count": 6,
   "metadata": {},
   "outputs": [
    {
     "name": "stderr",
     "output_type": "stream",
     "text": [
      "C:\\Users\\jhump\\Anaconda3\\lib\\site-packages\\sklearn\\linear_model\\logistic.py:460: FutureWarning: Default multi_class will be changed to 'auto' in 0.22. Specify the multi_class option to silence this warning.\n",
      "  \"this warning.\", FutureWarning)\n",
      "C:\\Users\\jhump\\Anaconda3\\lib\\site-packages\\sklearn\\linear_model\\logistic.py:758: ConvergenceWarning: lbfgs failed to converge. Increase the number of iterations.\n",
      "  \"of iterations.\", ConvergenceWarning)\n",
      "C:\\Users\\jhump\\Anaconda3\\lib\\site-packages\\sklearn\\linear_model\\logistic.py:758: ConvergenceWarning: lbfgs failed to converge. Increase the number of iterations.\n",
      "  \"of iterations.\", ConvergenceWarning)\n"
     ]
    }
   ],
   "source": [
    "# implement cross-validation w independent test set\n",
    "# good news - already have test set split\n",
    "\n",
    "from sklearn.model_selection import GridSearchCV\n",
    "from sklearn.linear_model import LogisticRegression\n",
    "\n",
    "X_train = train_features.drop(columns='id')\n",
    "y_train = train_labels.status_group\n",
    "X_test = test_features.drop(columns='id')\n",
    "\n",
    "X_train_no_object_dtypes = X_train.select_dtypes(exclude='object')\n",
    "X_test_no_object_dtypes = X_test.select_dtypes(exclude='object')\n",
    "\n",
    "model = LogisticRegression(solver='lbfgs')\n",
    "param_grid = {}\n",
    "\n",
    "grid_search = GridSearchCV(estimator=model, param_grid=param_grid, cv=3, n_jobs=2)  # can define specific args here\n",
    "\n",
    "grid_search.fit(X_train_no_object_dtypes, y_train)\n",
    "# estimator is your model or pipeline, which you've instantiated and fitted\n",
    "\n",
    "# X_test is your dataframe or numpy array, \n",
    "# with the same number of rows, in the same order, as test_features, \n",
    "# and the same number of columns, in the same order, as X_train\n",
    "\n",
    "y_pred = grid_search.predict(X_test_no_object_dtypes)\n",
    "\n",
    "# Makes a dataframe with two columns, id and status_group, \n",
    "# and writes to a csv file, without the index\n",
    "\n",
    "submission = test_features[['id']].copy()\n",
    "submission['status_group'] = y_pred\n",
    "submission.to_csv('tanzania_kaggle_01.csv', index=False)\n"
   ]
  }
 ],
 "metadata": {
  "kernelspec": {
   "display_name": "Python 3",
   "language": "python",
   "name": "python3"
  },
  "language_info": {
   "codemirror_mode": {
    "name": "ipython",
    "version": 3
   },
   "file_extension": ".py",
   "mimetype": "text/x-python",
   "name": "python",
   "nbconvert_exporter": "python",
   "pygments_lexer": "ipython3",
   "version": "3.6.8"
  }
 },
 "nbformat": 4,
 "nbformat_minor": 2
}
